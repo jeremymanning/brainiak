{
 "cells": [
  {
   "cell_type": "markdown",
   "metadata": {},
   "source": [
    "##  TESTINNG "
   ]
  },
  {
   "cell_type": "code",
   "execution_count": 1,
   "metadata": {},
   "outputs": [
    {
     "name": "stdout",
     "output_type": "stream",
     "text": [
      "/Users/ms44/anaconda/envs/brainiak/bin/python\n",
      "['', '/Users/ms44/repos/brainiak', '/Users/ms44/anaconda/envs/brainiak/lib/python35.zip', '/Users/ms44/anaconda/envs/brainiak/lib/python3.5', '/Users/ms44/anaconda/envs/brainiak/lib/python3.5/plat-darwin', '/Users/ms44/anaconda/envs/brainiak/lib/python3.5/lib-dynload', '/Users/ms44/.local/lib/python3.5/site-packages', '/Users/ms44/anaconda/envs/brainiak/lib/python3.5/site-packages/flake8-2.5.1-py3.5.egg', '/Users/ms44/anaconda/envs/brainiak/lib/python3.5/site-packages/mccabe-0.3.1-py3.5.egg', '/Users/ms44/anaconda/envs/brainiak/lib/python3.5/site-packages/setuptools-23.0.0-py3.5.egg', '/Users/ms44/anaconda/envs/brainiak/lib/python3.5/site-packages', '/Users/ms44/anaconda/envs/brainiak/lib/python3.5/site-packages/IPython/extensions', '/Users/ms44/.ipython']\n"
     ]
    }
   ],
   "source": [
    "import sys\n",
    "\n",
    "print(sys.executable)\n",
    "print(sys.path)"
   ]
  },
  {
   "cell_type": "code",
   "execution_count": null,
   "metadata": {},
   "outputs": [],
   "source": []
  }
 ],
 "metadata": {
  "kernelspec": {
   "display_name": "Python [conda env:brainiak]",
   "language": "python",
   "name": "conda-env-brainiak-py"
  },
  "language_info": {
   "codemirror_mode": {
    "name": "ipython",
    "version": 3
   },
   "file_extension": ".py",
   "mimetype": "text/x-python",
   "name": "python",
   "nbconvert_exporter": "python",
   "pygments_lexer": "ipython3",
   "version": "3.5.2"
  }
 },
 "nbformat": 4,
 "nbformat_minor": 1
}
